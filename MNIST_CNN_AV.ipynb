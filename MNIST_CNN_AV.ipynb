{
  "nbformat": 4,
  "nbformat_minor": 0,
  "metadata": {
    "colab": {
      "name": "MNIST_CNN_AV",
      "provenance": [],
      "collapsed_sections": [],
      "authorship_tag": "ABX9TyMDvdo01iPPNR7Ho6WsfBJD",
      "include_colab_link": true
    },
    "kernelspec": {
      "name": "python3",
      "display_name": "Python 3"
    }
  },
  "cells": [
    {
      "cell_type": "markdown",
      "metadata": {
        "id": "view-in-github",
        "colab_type": "text"
      },
      "source": [
        "<a href=\"https://colab.research.google.com/github/AishwaryaVelumani/Hello-FOSS-ML/blob/master/MNIST_CNN_AV.ipynb\" target=\"_parent\"><img src=\"https://colab.research.google.com/assets/colab-badge.svg\" alt=\"Open In Colab\"/></a>"
      ]
    },
    {
      "cell_type": "markdown",
      "metadata": {
        "id": "GOiS1rLoIZ2H"
      },
      "source": [
        "# Set up"
      ]
    },
    {
      "cell_type": "code",
      "metadata": {
        "id": "chpMK6pAIdkN"
      },
      "source": [
        "import numpy as np\n",
        "import tensorflow as tf\n",
        "from tensorflow import keras\n",
        "from tensorflow.keras import layers\n",
        "import matplotlib.pyplot as plt"
      ],
      "execution_count": null,
      "outputs": []
    },
    {
      "cell_type": "markdown",
      "metadata": {
        "id": "snkEBc5GIw8E"
      },
      "source": [
        "# Prepare the data"
      ]
    },
    {
      "cell_type": "code",
      "metadata": {
        "id": "fGrcCEQHItp1",
        "outputId": "54a4bffb-3cf9-42c1-ddef-01165ce14a86",
        "colab": {
          "base_uri": "https://localhost:8080/",
          "height": 337
        }
      },
      "source": [
        "# model/data parameters\n",
        "num_classes=10\n",
        "input_shape=(28,28,1)\n",
        "\n",
        "# data split into train and test sets\n",
        "(xtr,ytr),(xte,yte)= keras.datasets.mnist.load_data()\n",
        "\n",
        "#scale images to [0,1] range\n",
        "xtr= xtr.astype(\"float32\")/255\n",
        "xte= xte.astype(\"float32\")/255\n",
        "\n",
        "#make sure images have shape (28,28,1)\n",
        "xtr= np.expand_dims(xtr,-1)\n",
        "xte= np.expand_dims(xte,-1)\n",
        "\n",
        "print(\"xtr shape:\", xtr.shape)\n",
        "print(\"xte shape:\", xte.shape)\n",
        "\n",
        "img= xtr[2]\n",
        "img= np.array(img,dtype='float')\n",
        "pix= img.reshape((28,28))\n",
        "plt.imshow(pix,cmap='gray')\n",
        "plt.show()"
      ],
      "execution_count": null,
      "outputs": [
        {
          "output_type": "stream",
          "text": [
            "Downloading data from https://storage.googleapis.com/tensorflow/tf-keras-datasets/mnist.npz\n",
            "11493376/11490434 [==============================] - 0s 0us/step\n",
            "xtr shape: (60000, 28, 28, 1)\n",
            "xte shape: (10000, 28, 28, 1)\n"
          ],
          "name": "stdout"
        },
        {
          "output_type": "display_data",
          "data": {
            "image/png": "[encoded data removed]",
            "text/plain": [
              "<Figure size 432x288 with 1 Axes>"
            ]
          },
          "metadata": {
            "tags": [],
            "needs_background": "light"
          }
        }
      ]
    },
    {
      "cell_type": "code",
      "metadata": {
        "id": "udiela5xK0cA"
      },
      "source": [
        "#convert class vectors to binary class matrices\n",
        "ytr= keras.utils.to_categorical(ytr,num_classes)\n",
        "yte= keras.utils.to_categorical(yte,num_classes)"
      ],
      "execution_count": null,
      "outputs": []
    },
    {
      "cell_type": "markdown",
      "metadata": {
        "id": "HMWJle1BMMkk"
      },
      "source": [
        "# Build the model"
      ]
    },
    {
      "cell_type": "code",
      "metadata": {
        "id": "7TvDmFBoMKmY",
        "outputId": "a36a7a53-3609-4b63-92a3-0a9958bbb2c5",
        "colab": {
          "base_uri": "https://localhost:8080/",
          "height": 417
        }
      },
      "source": [
        "model= keras.Sequential(\n",
        "    [\n",
        "        keras.Input(shape=input_shape),\n",
        "        layers.Conv2D(32,kernel_size=(3,3),activation=\"relu\"),\n",
        "        layers.MaxPooling2D(pool_size=(2,2)),\n",
        "        layers.Conv2D(64,kernel_size=(3,3),activation=\"relu\"),\n",
        "        layers.MaxPooling2D(pool_size=(2,2)),\n",
        "        layers.Flatten(),\n",
        "        layers.Dropout(0.5),\n",
        "        layers.Dense(num_classes,activation=\"softmax\")\n",
        "    ]\n",
        ")\n",
        "\n",
        "model.summary()"
      ],
      "execution_count": null,
      "outputs": [
        {
          "output_type": "stream",
          "text": [
            "Model: \"sequential\"\n",
            "_________________________________________________________________\n",
            "Layer (type)                 Output Shape              Param #   \n",
            "=================================================================\n",
            "conv2d (Conv2D)              (None, 26, 26, 32)        320       \n",
            "_________________________________________________________________\n",
            "max_pooling2d (MaxPooling2D) (None, 13, 13, 32)        0         \n",
            "_________________________________________________________________\n",
            "conv2d_1 (Conv2D)            (None, 11, 11, 64)        18496     \n",
            "_________________________________________________________________\n",
            "max_pooling2d_1 (MaxPooling2 (None, 5, 5, 64)          0         \n",
            "_________________________________________________________________\n",
            "flatten (Flatten)            (None, 1600)              0         \n",
            "_________________________________________________________________\n",
            "dropout (Dropout)            (None, 1600)              0         \n",
            "_________________________________________________________________\n",
            "dense (Dense)                (None, 10)                16010     \n",
            "=================================================================\n",
            "Total params: 34,826\n",
            "Trainable params: 34,826\n",
            "Non-trainable params: 0\n",
            "_________________________________________________________________\n"
          ],
          "name": "stdout"
        }
      ]
    },
    {
      "cell_type": "markdown",
      "metadata": {
        "id": "-9LzG6cdP3kU"
      },
      "source": [
        "# Train the model"
      ]
    },
    {
      "cell_type": "code",
      "metadata": {
        "id": "utuVpMiTPwI3",
        "outputId": "64dc8a5a-f8c4-45c2-a522-de64b7136543",
        "colab": {
          "base_uri": "https://localhost:8080/",
          "height": 399
        }
      },
      "source": [
        "batch_size=128\n",
        "epochs=10\n",
        "\n",
        "model.compile(loss=\"categorical_crossentropy\",optimizer=\"adam\",metrics=[\"accuracy\"])\n",
        "\n",
        "model.fit(xtr,ytr,batch_size=batch_size,epochs=epochs,validation_split=0.1)"
      ],
      "execution_count": null,
      "outputs": [
        {
          "output_type": "stream",
          "text": [
            "Epoch 1/10\n",
            "422/422 [==============================] - 41s 97ms/step - loss: 0.3691 - accuracy: 0.8875 - val_loss: 0.0783 - val_accuracy: 0.9788\n",
            "Epoch 2/10\n",
            "422/422 [==============================] - 42s 99ms/step - loss: 0.1092 - accuracy: 0.9671 - val_loss: 0.0522 - val_accuracy: 0.9860\n",
            "Epoch 3/10\n",
            "422/422 [==============================] - 41s 98ms/step - loss: 0.0805 - accuracy: 0.9753 - val_loss: 0.0457 - val_accuracy: 0.9867\n",
            "Epoch 4/10\n",
            "422/422 [==============================] - 40s 95ms/step - loss: 0.0688 - accuracy: 0.9786 - val_loss: 0.0450 - val_accuracy: 0.9877\n",
            "Epoch 5/10\n",
            "422/422 [==============================] - 41s 97ms/step - loss: 0.0604 - accuracy: 0.9811 - val_loss: 0.0379 - val_accuracy: 0.9907\n",
            "Epoch 6/10\n",
            "422/422 [==============================] - 41s 96ms/step - loss: 0.0564 - accuracy: 0.9828 - val_loss: 0.0380 - val_accuracy: 0.9895\n",
            "Epoch 7/10\n",
            "422/422 [==============================] - 41s 96ms/step - loss: 0.0507 - accuracy: 0.9842 - val_loss: 0.0353 - val_accuracy: 0.9895\n",
            "Epoch 8/10\n",
            "422/422 [==============================] - 41s 96ms/step - loss: 0.0486 - accuracy: 0.9852 - val_loss: 0.0362 - val_accuracy: 0.9903\n",
            "Epoch 9/10\n",
            "422/422 [==============================] - 40s 96ms/step - loss: 0.0439 - accuracy: 0.9861 - val_loss: 0.0371 - val_accuracy: 0.9897\n",
            "Epoch 10/10\n",
            "422/422 [==============================] - 41s 96ms/step - loss: 0.0423 - accuracy: 0.9864 - val_loss: 0.0313 - val_accuracy: 0.9910\n"
          ],
          "name": "stdout"
        },
        {
          "output_type": "execute_result",
          "data": {
            "text/plain": [
              "<tensorflow.python.keras.callbacks.History at 0x7f038adcdf60>"
            ]
          },
          "metadata": {
            "tags": []
          },
          "execution_count": 5
        }
      ]
    },
    {
      "cell_type": "markdown",
      "metadata": {
        "id": "C4NLR6kmSQz2"
      },
      "source": [
        "# Evaluate the trained model"
      ]
    },
    {
      "cell_type": "code",
      "metadata": {
        "id": "OzIxa2e3SLwT",
        "outputId": "c649a0ba-2e7f-4b89-91cc-203dcaa66575",
        "colab": {
          "base_uri": "https://localhost:8080/",
          "height": 72
        }
      },
      "source": [
        "score= model.evaluate(xte,yte,verbose=1)\n",
        "print(\"Test loss: \",score[0])\n",
        "print(\"Test accuracy: \",score[1])"
      ],
      "execution_count": null,
      "outputs": [
        {
          "output_type": "stream",
          "text": [
            "313/313 [==============================] - 3s 10ms/step - loss: 0.0245 - accuracy: 0.9917\n",
            "Test loss:  0.024481039494276047\n",
            "Test accuracy:  0.9916999936103821\n"
          ],
          "name": "stdout"
        }
      ]
    },
    {
      "cell_type": "code",
      "metadata": {
        "id": "UwD1KuY-7YEC",
        "outputId": "8e7fb026-4322-4ba9-fc2c-8a6b2cbf03e6",
        "colab": {
          "base_uri": "https://localhost:8080/",
          "height": 283
        }
      },
      "source": [
        "img= xte[7]\n",
        "img= np.array(img,dtype='float')\n",
        "pix= img.reshape((28,28))\n",
        "plt.imshow(pix,cmap='gray')\n",
        "plt.show()\n",
        "\n",
        "img= img.reshape(1,28,28,1)\n",
        "img= img.astype('float32')\n",
        "pred= model.predict_classes(img)\n",
        "print(pred)"
      ],
      "execution_count": null,
      "outputs": [
        {
          "output_type": "display_data",
          "data": {
            "image/png": "[encoded data removed]",
            "text/plain": [
              "<Figure size 432x288 with 1 Axes>"
            ]
          },
          "metadata": {
            "tags": [],
            "needs_background": "light"
          }
        },
        {
          "output_type": "stream",
          "text": [
            "[9]\n"
          ],
          "name": "stdout"
        }
      ]
    },
    {
      "cell_type": "code",
      "metadata": {
        "id": "Z5BaOBsHB19h"
      },
      "source": [
        ""
      ],
      "execution_count": null,
      "outputs": []
    }
  ]
}